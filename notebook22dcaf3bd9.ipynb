{
 "cells": [
  {
   "cell_type": "code",
   "execution_count": 1,
   "id": "e3c32214",
   "metadata": {
    "_cell_guid": "a385fb04-a530-4220-87a1-3add4d4dbf60",
    "_uuid": "dc8a5233-a945-4c3d-b92a-9aab2268a387",
    "collapsed": false,
    "execution": {
     "iopub.execute_input": "2024-01-06T03:36:43.127377Z",
     "iopub.status.busy": "2024-01-06T03:36:43.127005Z",
     "iopub.status.idle": "2024-01-06T03:36:44.509525Z",
     "shell.execute_reply": "2024-01-06T03:36:44.508077Z"
    },
    "jupyter": {
     "outputs_hidden": false
    },
    "papermill": {
     "duration": 1.387661,
     "end_time": "2024-01-06T03:36:44.511644",
     "exception": false,
     "start_time": "2024-01-06T03:36:43.123983",
     "status": "completed"
    },
    "tags": []
   },
   "outputs": [
    {
     "name": "stdout",
     "output_type": "stream",
     "text": [
      "   product_type  county  eic_count  installed_capacity  is_business  \\\n",
      "0             1       0        108              952.89            0   \n",
      "1             2       0         17              166.40            0   \n",
      "2             3       0        688             7207.88            0   \n",
      "3             0       0          5              400.00            1   \n",
      "4             1       0         43             1411.00            1   \n",
      "\n",
      "         date  data_block_id  \n",
      "0  2021-09-01              2  \n",
      "1  2021-09-01              2  \n",
      "2  2021-09-01              2  \n",
      "3  2021-09-01              2  \n",
      "4  2021-09-01              2  \n",
      "Mean Absolute Error (MAE): 46.89800028920406\n"
     ]
    }
   ],
   "source": [
    "import pandas as pd\n",
    "from sklearn.model_selection import train_test_split\n",
    "from sklearn.linear_model import LinearRegression\n",
    "from sklearn.metrics import mean_absolute_error\n",
    "\n",
    "# Step 1: Data Loading\n",
    "data=pd.read_csv(\"/kaggle/input/enefit-predict-energy-behavior-of-prosumers/client.csv\")\n",
    "# Assuming you've already loaded your dataset into a DataFrame named 'data'\n",
    "# Check the first few rows to understand the structure\n",
    "print(data.head())\n",
    "\n",
    "# Step 3: Feature Engineering\n",
    "# In this case, let's assume 'installed_capacity' is the feature we're using to predict electricity production/consumption\n",
    "# Select the feature and target variable\n",
    "features = ['installed_capacity']\n",
    "target = 'electricity_consumption'  # Assuming this is the target variable you want to predict\n",
    "# Assuming 'data' contains your dataset\n",
    "# Step 4: Model Development\n",
    "feature_column = 'installed_capacity'\n",
    "target_column = 'eic_count'\n",
    "\n",
    "# Check if the columns exist in the dataset\n",
    "if feature_column in data.columns and target_column in data.columns:\n",
    "    # Splitting the data into features and target variable\n",
    "    X = data[[feature_column]]\n",
    "    y = data[target_column]\n",
    "\n",
    "    # Split the data into training and testing sets\n",
    "    X_train, X_test, y_train, y_test = train_test_split(X, y, test_size=0.2, random_state=42)\n",
    "\n",
    "    # Initialize a Linear Regression model\n",
    "    model = LinearRegression()\n",
    "\n",
    "    # Train the model\n",
    "    model.fit(X_train, y_train)\n",
    "\n",
    "    # Make predictions on the test set\n",
    "    predictions = model.predict(X_test)\n",
    "\n",
    "    # Calculate Mean Absolute Error (MAE)\n",
    "    mae = mean_absolute_error(y_test, predictions)\n",
    "\n",
    "    # Output MAE\n",
    "    print(\"Mean Absolute Error (MAE):\", mae)\n",
    "else:\n",
    "    print(\"Specified columns not found in the dataset.\")"
   ]
  }
 ],
 "metadata": {
  "kaggle": {
   "accelerator": "none",
   "dataSources": [
    {
     "databundleVersionId": 7292407,
     "sourceId": 57236,
     "sourceType": "competition"
    },
    {
     "datasetId": 3952931,
     "sourceId": 6916662,
     "sourceType": "datasetVersion"
    },
    {
     "datasetId": 4216945,
     "sourceId": 7273896,
     "sourceType": "datasetVersion"
    }
   ],
   "dockerImageVersionId": 30626,
   "isGpuEnabled": false,
   "isInternetEnabled": false,
   "language": "python",
   "sourceType": "notebook"
  },
  "kernelspec": {
   "display_name": "Python 3",
   "language": "python",
   "name": "python3"
  },
  "language_info": {
   "codemirror_mode": {
    "name": "ipython",
    "version": 3
   },
   "file_extension": ".py",
   "mimetype": "text/x-python",
   "name": "python",
   "nbconvert_exporter": "python",
   "pygments_lexer": "ipython3",
   "version": "3.10.12"
  },
  "papermill": {
   "default_parameters": {},
   "duration": 4.146066,
   "end_time": "2024-01-06T03:36:44.933953",
   "environment_variables": {},
   "exception": null,
   "input_path": "__notebook__.ipynb",
   "output_path": "__notebook__.ipynb",
   "parameters": {},
   "start_time": "2024-01-06T03:36:40.787887",
   "version": "2.4.0"
  }
 },
 "nbformat": 4,
 "nbformat_minor": 5
}
